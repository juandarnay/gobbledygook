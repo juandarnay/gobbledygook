{
 "cells": [
  {
   "cell_type": "markdown",
   "metadata": {},
   "source": [
    "- title: In class-examples, February 10, 2020\n",
    "- tags: in_class, week4\n",
    "- date: 2020-02-10"
   ]
  },
  {
   "cell_type": "code",
   "execution_count": 1,
   "metadata": {},
   "outputs": [],
   "source": [
    "import json"
   ]
  },
  {
   "cell_type": "code",
   "execution_count": 3,
   "metadata": {},
   "outputs": [],
   "source": [
    "example_data = {\"some\": [{\"horrible\":\"0\", \"terrible\": {\"nested\":[\"really\", \"nested\", {\"thing\": 5} ]}},{1:2}]}"
   ]
  },
  {
   "cell_type": "code",
   "execution_count": 4,
   "metadata": {},
   "outputs": [
    {
     "data": {
      "text/plain": [
       "{'some': [{'horrible': '0',\n",
       "   'terrible': {'nested': ['really', 'nested', {'thing': 5}]}},\n",
       "  {1: 2}]}"
      ]
     },
     "execution_count": 4,
     "metadata": {},
     "output_type": "execute_result"
    }
   ],
   "source": [
    "example_data"
   ]
  },
  {
   "cell_type": "code",
   "execution_count": 5,
   "metadata": {},
   "outputs": [
    {
     "name": "stdout",
     "output_type": "stream",
     "text": [
      "{\n",
      "    \"some\": [\n",
      "        {\n",
      "            \"horrible\": \"0\",\n",
      "            \"terrible\": {\n",
      "                \"nested\": [\n",
      "                    \"really\",\n",
      "                    \"nested\",\n",
      "                    {\n",
      "                        \"thing\": 5\n",
      "                    }\n",
      "                ]\n",
      "            }\n",
      "        },\n",
      "        {\n",
      "            \"1\": 2\n",
      "        }\n",
      "    ]\n",
      "}\n"
     ]
    }
   ],
   "source": [
    "print(json.dumps(example_data, sort_keys = True, indent = 4))"
   ]
  },
  {
   "cell_type": "code",
   "execution_count": 6,
   "metadata": {},
   "outputs": [],
   "source": [
    "def pretty(data):\n",
    "    print(json.dumps(data, sort_keys = True, indent = 4))"
   ]
  },
  {
   "cell_type": "code",
   "execution_count": 7,
   "metadata": {},
   "outputs": [
    {
     "name": "stdout",
     "output_type": "stream",
     "text": [
      "[\n",
      "    {\n",
      "        \"horrible\": \"0\",\n",
      "        \"terrible\": {\n",
      "            \"nested\": [\n",
      "                \"really\",\n",
      "                \"nested\",\n",
      "                {\n",
      "                    \"thing\": 5\n",
      "                }\n",
      "            ]\n",
      "        }\n",
      "    },\n",
      "    {\n",
      "        \"1\": 2\n",
      "    }\n",
      "]\n"
     ]
    }
   ],
   "source": [
    "pretty(example_data[\"some\"])"
   ]
  },
  {
   "cell_type": "code",
   "execution_count": 8,
   "metadata": {},
   "outputs": [
    {
     "name": "stdout",
     "output_type": "stream",
     "text": [
      "{\n",
      "    \"horrible\": \"0\",\n",
      "    \"terrible\": {\n",
      "        \"nested\": [\n",
      "            \"really\",\n",
      "            \"nested\",\n",
      "            {\n",
      "                \"thing\": 5\n",
      "            }\n",
      "        ]\n",
      "    }\n",
      "}\n"
     ]
    }
   ],
   "source": [
    "pretty(example_data[\"some\"][0])"
   ]
  },
  {
   "cell_type": "code",
   "execution_count": 9,
   "metadata": {},
   "outputs": [
    {
     "name": "stdout",
     "output_type": "stream",
     "text": [
      "{\n",
      "    \"nested\": [\n",
      "        \"really\",\n",
      "        \"nested\",\n",
      "        {\n",
      "            \"thing\": 5\n",
      "        }\n",
      "    ]\n",
      "}\n"
     ]
    }
   ],
   "source": [
    "pretty(example_data[\"some\"][0][\"terrible\"])"
   ]
  },
  {
   "cell_type": "code",
   "execution_count": 10,
   "metadata": {},
   "outputs": [
    {
     "name": "stdout",
     "output_type": "stream",
     "text": [
      "[\n",
      "    \"really\",\n",
      "    \"nested\",\n",
      "    {\n",
      "        \"thing\": 5\n",
      "    }\n",
      "]\n"
     ]
    }
   ],
   "source": [
    "pretty(example_data[\"some\"][0][\"terrible\"][\"nested\"])"
   ]
  },
  {
   "cell_type": "code",
   "execution_count": 18,
   "metadata": {},
   "outputs": [],
   "source": [
    "list_of_cats = [{\"a\": 5, \"name\": \"biter\"}, {\"a\": 15, \"name\": \"beater\"}, {\"a\": 50, \"name\": \"felix\"}, {\"a\": 500, \"name\": \"garfield\"}, {\"a\": 0.55, \"name\": \"fluff\"}]"
   ]
  },
  {
   "cell_type": "code",
   "execution_count": 14,
   "metadata": {},
   "outputs": [
    {
     "name": "stdout",
     "output_type": "stream",
     "text": [
      "{'a': 5}\n"
     ]
    }
   ],
   "source": [
    "print(list_of_cats[0])"
   ]
  },
  {
   "cell_type": "code",
   "execution_count": 15,
   "metadata": {},
   "outputs": [
    {
     "name": "stdout",
     "output_type": "stream",
     "text": [
      "5\n"
     ]
    }
   ],
   "source": [
    "print(list_of_cats[0][\"a\"])"
   ]
  },
  {
   "cell_type": "code",
   "execution_count": 19,
   "metadata": {},
   "outputs": [
    {
     "name": "stdout",
     "output_type": "stream",
     "text": [
      "garfield\n"
     ]
    }
   ],
   "source": [
    "chonkiest = list_of_cats[0]\n",
    "for chonky_cat in list_of_cats:\n",
    "    looking_at = chonky_cat[\"a\"]\n",
    "    if looking_at > chonkiest[\"a\"]:\n",
    "        chonkiest = chonky_cat\n",
    "print(chonkiest[\"name\"])"
   ]
  },
  {
   "cell_type": "code",
   "execution_count": 20,
   "metadata": {},
   "outputs": [],
   "source": [
    "import datetime"
   ]
  },
  {
   "cell_type": "code",
   "execution_count": 21,
   "metadata": {},
   "outputs": [
    {
     "name": "stdout",
     "output_type": "stream",
     "text": [
      "2020-02-10 20:56:25.638892\n"
     ]
    }
   ],
   "source": [
    "print(datetime.datetime.now())"
   ]
  },
  {
   "cell_type": "code",
   "execution_count": 29,
   "metadata": {},
   "outputs": [],
   "source": [
    "class Litigant(object):\n",
    "    def __init__(self, role, name):\n",
    "        self.role = role\n",
    "        self.name = name"
   ]
  },
  {
   "cell_type": "code",
   "execution_count": 30,
   "metadata": {},
   "outputs": [],
   "source": [
    "class Lawsuit(object):\n",
    "    def __init__(self, plaintiff, defendant):\n",
    "        self.case_number = 50\n",
    "        self.plaintiff = Litigant(role=\"Plaintiff\", name=plaintiff)\n",
    "        self.defendant = Litigant(role=\"Defendant\", name=defendant)\n",
    "    \n",
    "    def announce(self):\n",
    "        print(self.plaintiff.name + \" v. \" + self.defendant.name)\n",
    "        \n",
    "    "
   ]
  },
  {
   "cell_type": "code",
   "execution_count": 31,
   "metadata": {},
   "outputs": [],
   "source": [
    "classroom_suit = Lawsuit(\"Madison\", \"Innocent Beleagured Professor\")"
   ]
  },
  {
   "cell_type": "code",
   "execution_count": 32,
   "metadata": {},
   "outputs": [
    {
     "name": "stdout",
     "output_type": "stream",
     "text": [
      "Madison v. Innocent Beleagured Professor\n"
     ]
    }
   ],
   "source": [
    "classroom_suit.announce()"
   ]
  },
  {
   "cell_type": "code",
   "execution_count": null,
   "metadata": {},
   "outputs": [],
   "source": []
  }
 ],
 "metadata": {
  "kernelspec": {
   "display_name": "Python 3",
   "language": "python",
   "name": "python3"
  },
  "language_info": {
   "codemirror_mode": {
    "name": "ipython",
    "version": 3
   },
   "file_extension": ".py",
   "mimetype": "text/x-python",
   "name": "python",
   "nbconvert_exporter": "python",
   "pygments_lexer": "ipython3",
   "version": "3.7.6"
  }
 },
 "nbformat": 4,
 "nbformat_minor": 4
}
