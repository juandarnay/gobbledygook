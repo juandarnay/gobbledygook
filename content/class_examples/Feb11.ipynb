{
 "cells": [
  {
   "cell_type": "markdown",
   "metadata": {},
   "source": [
    "- title: In class-examples, February 11, 2020\n",
    "- tags: in_class, week4\n",
    "- date: 2020-02-11"
   ]
  },
  {
   "cell_type": "code",
   "execution_count": 4,
   "metadata": {},
   "outputs": [],
   "source": [
    "def joint_probability_of_independent_events(list_of_events):\n",
    "    prob = 1\n",
    "    for x in list_of_events:\n",
    "        prob = prob * x\n",
    "    return prob "
   ]
  },
  {
   "cell_type": "code",
   "execution_count": 5,
   "metadata": {},
   "outputs": [
    {
     "name": "stdout",
     "output_type": "stream",
     "text": [
      "0.125\n"
     ]
    }
   ],
   "source": [
    "three_coins = [0.5, 0.5, 0.5]\n",
    "print(joint_probability_of_independent_events(three_coins))"
   ]
  },
  {
   "cell_type": "code",
   "execution_count": 6,
   "metadata": {},
   "outputs": [],
   "source": [
    "# DON'T WRITE THIS DOWN, THERE'S A BUG. \n",
    "\n",
    "def union_of_independent_events(list_of_events):\n",
    "    sum_of_events = sum(list_of_events)\n",
    "    return sum_of_events - joint_probability_of_independent_events(list_of_events)"
   ]
  },
  {
   "cell_type": "code",
   "execution_count": 7,
   "metadata": {},
   "outputs": [
    {
     "name": "stdout",
     "output_type": "stream",
     "text": [
      "0.75\n"
     ]
    }
   ],
   "source": [
    "print(union_of_independent_events([0.5, 0.5]))"
   ]
  },
  {
   "cell_type": "code",
   "execution_count": 8,
   "metadata": {},
   "outputs": [
    {
     "name": "stdout",
     "output_type": "stream",
     "text": [
      "1.375\n"
     ]
    }
   ],
   "source": [
    "print(union_of_independent_events(three_coins))"
   ]
  },
  {
   "cell_type": "markdown",
   "metadata": {},
   "source": [
    "So we'll talk in class about why that last one is wrong---and I'm not going to implement a correct version, because it'll require more combinatorial gnarliness than I'm willing to figure out how to code up today---but if you want to see what the deal is in advance, check out [this wikipedia page](https://en.wikipedia.org/wiki/Inclusion%E2%80%93exclusion_principle)."
   ]
  },
  {
   "cell_type": "code",
   "execution_count": null,
   "metadata": {},
   "outputs": [],
   "source": []
  }
 ],
 "metadata": {
  "kernelspec": {
   "display_name": "Python 3",
   "language": "python",
   "name": "python3"
  },
  "language_info": {
   "codemirror_mode": {
    "name": "ipython",
    "version": 3
   },
   "file_extension": ".py",
   "mimetype": "text/x-python",
   "name": "python",
   "nbconvert_exporter": "python",
   "pygments_lexer": "ipython3",
   "version": "3.7.6"
  }
 },
 "nbformat": 4,
 "nbformat_minor": 4
}
