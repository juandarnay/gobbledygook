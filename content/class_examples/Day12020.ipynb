{
 "cells": [
  {
   "cell_type": "markdown",
   "metadata": {},
   "source": [
    "- title: Day 1 in-class examples (2020)\n",
    "- tags: in_class, week1\n",
    "- date: 2020-01-22"
   ]
  },
  {
   "cell_type": "code",
   "execution_count": 1,
   "metadata": {},
   "outputs": [],
   "source": [
    "print(\"hello world!\")"
   ]
  },
  {
   "cell_type": "code",
   "execution_count": 7,
   "metadata": {},
   "outputs": [],
   "source": [
    "def say_cat_a_lot():\n",
    "    for x in range(10):\n",
    "        print(\"CAT!!!\")"
   ]
  },
  {
   "cell_type": "code",
   "execution_count": 5,
   "metadata": {
    "scrolled": true
   },
   "outputs": [
    {
     "name": "stdout",
     "output_type": "stream",
     "text": [
      "CAT!!!\n",
      "CAT!!!\n",
      "CAT!!!\n",
      "CAT!!!\n",
      "CAT!!!\n",
      "CAT!!!\n",
      "CAT!!!\n",
      "CAT!!!\n",
      "CAT!!!\n",
      "CAT!!!\n"
     ]
    }
   ],
   "source": [
    "say_cat_a_lot()"
   ]
  },
  {
   "cell_type": "markdown",
   "metadata": {},
   "source": [
    "Hey, this is my text answer to the question.  Go look at my code in the next cell!  Give me my a +++++++"
   ]
  },
  {
   "cell_type": "code",
   "execution_count": 8,
   "metadata": {},
   "outputs": [],
   "source": [
    "def read_the_paper():\n",
    "    print(\"I opened the file!\")\n",
    "\n",
    "def find_the_sees():\n",
    "    print(\"found one!  bahahaha!!\")\n",
    "\n",
    "def check_if_eg():\n",
    "    return False\n",
    "    \n",
    "def identify_bad_commas():\n",
    "    read_the_paper()\n",
    "    find_the_sees()\n",
    "    if check_if_eg():\n",
    "        needs_comma = True\n",
    "    else:\n",
    "        needs_comma = False\n",
    "    return needs_comma\n",
    "\n",
    "def insert_comma(citation):\n",
    "    if citation == True:\n",
    "        return ','\n",
    "    else:\n",
    "        return ''\n",
    "    \n",
    "    "
   ]
  },
  {
   "cell_type": "code",
   "execution_count": 9,
   "metadata": {},
   "outputs": [],
   "source": [
    "def caps_and_periods(text):\n",
    "    return text.upper() + \".....\""
   ]
  },
  {
   "cell_type": "code",
   "execution_count": 10,
   "metadata": {},
   "outputs": [
    {
     "data": {
      "text/plain": [
       "'CAT.....'"
      ]
     },
     "execution_count": 10,
     "metadata": {},
     "output_type": "execute_result"
    }
   ],
   "source": [
    "caps_and_periods(\"cat\")"
   ]
  },
  {
   "cell_type": "code",
   "execution_count": 11,
   "metadata": {},
   "outputs": [
    {
     "data": {
      "text/plain": [
       "'DOG, AS IF DOGS MATTER.....'"
      ]
     },
     "execution_count": 11,
     "metadata": {},
     "output_type": "execute_result"
    }
   ],
   "source": [
    "caps_and_periods(\"dog, as if dogs matter\")"
   ]
  },
  {
   "cell_type": "code",
   "execution_count": 12,
   "metadata": {},
   "outputs": [],
   "source": [
    "def addcats(moretext):\n",
    "    return \"CATS CATS CATS are the best \" + moretext"
   ]
  },
  {
   "cell_type": "code",
   "execution_count": 13,
   "metadata": {},
   "outputs": [],
   "source": [
    "lame_animal = \"dog\""
   ]
  },
  {
   "cell_type": "code",
   "execution_count": 14,
   "metadata": {},
   "outputs": [],
   "source": [
    "big_lame_animal = caps_and_periods(lame_animal)"
   ]
  },
  {
   "cell_type": "code",
   "execution_count": 15,
   "metadata": {},
   "outputs": [
    {
     "name": "stdout",
     "output_type": "stream",
     "text": [
      "DOG.....\n"
     ]
    }
   ],
   "source": [
    "print(big_lame_animal)"
   ]
  },
  {
   "cell_type": "code",
   "execution_count": 16,
   "metadata": {},
   "outputs": [
    {
     "data": {
      "text/plain": [
       "'CATS CATS CATS are the best DOG.....'"
      ]
     },
     "execution_count": 16,
     "metadata": {},
     "output_type": "execute_result"
    }
   ],
   "source": [
    "addcats(big_lame_animal)"
   ]
  },
  {
   "cell_type": "code",
   "execution_count": 17,
   "metadata": {},
   "outputs": [
    {
     "name": "stdout",
     "output_type": "stream",
     "text": [
      "CATS CATS CATS are the best dogs\n",
      "CATS CATS CATS are the best bears\n",
      "CATS CATS CATS are the best dinos\n"
     ]
    }
   ],
   "source": [
    "mylist=['dogs', 'bears', 'dinos']\n",
    "for x in mylist:\n",
    "    print(addcats(x))"
   ]
  },
  {
   "cell_type": "code",
   "execution_count": 18,
   "metadata": {},
   "outputs": [
    {
     "name": "stdout",
     "output_type": "stream",
     "text": [
      "CATS CATS CATS are the best dogs\n",
      "CATS CATS CATS are the best dinos\n"
     ]
    }
   ],
   "source": [
    "for x in mylist:\n",
    "    if x[0] == 'd':\n",
    "        print(addcats(x))"
   ]
  },
  {
   "cell_type": "code",
   "execution_count": null,
   "metadata": {},
   "outputs": [],
   "source": []
  }
 ],
 "metadata": {
  "kernelspec": {
   "display_name": "Python 3",
   "language": "python",
   "name": "python3"
  },
  "language_info": {
   "codemirror_mode": {
    "name": "ipython",
    "version": 3
   },
   "file_extension": ".py",
   "mimetype": "text/x-python",
   "name": "python",
   "nbconvert_exporter": "python",
   "pygments_lexer": "ipython3",
   "version": "3.7.6"
  }
 },
 "nbformat": 4,
 "nbformat_minor": 4
}
