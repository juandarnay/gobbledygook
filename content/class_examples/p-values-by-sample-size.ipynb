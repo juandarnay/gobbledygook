{
 "cells": [
  {
   "cell_type": "code",
   "execution_count": 1,
   "metadata": {},
   "outputs": [],
   "source": [
    "import numpy as np\n",
    "from scipy.stats import ttest_1samp"
   ]
  },
  {
   "cell_type": "markdown",
   "metadata": {},
   "source": [
    "First, let's create a population by simulating data from an imagined world in which the true mean is 100, and the true standard deviation is 1.  We'll use the set seed function to make sure that when this code is run more than once it gives the same results.  (Set seed basically picks the number that the pseudo-random algorithm starts with.)"
   ]
  },
  {
   "cell_type": "code",
   "execution_count": 2,
   "metadata": {},
   "outputs": [],
   "source": [
    "np.random.seed(52240)\n",
    "simulated_population = np.random.normal(100, 1, 10000) # generate 10,000 instances"
   ]
  },
  {
   "cell_type": "code",
   "execution_count": 3,
   "metadata": {},
   "outputs": [],
   "source": [
    "small_sample = np.random.choice(simulated_population, size=10, replace=False)\n",
    "big_sample = np.random.choice(simulated_population, size=100, replace=False)\n"
   ]
  },
  {
   "cell_type": "code",
   "execution_count": 4,
   "metadata": {},
   "outputs": [
    {
     "name": "stdout",
     "output_type": "stream",
     "text": [
      "standard deviation of small sample is: 1.1044950204366775\n",
      "standard deviation of big sample is: 1.0059816078685067\n"
     ]
    }
   ],
   "source": [
    "print(f\"standard deviation of small sample is: {np.std(small_sample)}\")\n",
    "print(f\"standard deviation of big sample is: {np.std(big_sample)}\")"
   ]
  },
  {
   "cell_type": "code",
   "execution_count": 5,
   "metadata": {},
   "outputs": [
    {
     "name": "stdout",
     "output_type": "stream",
     "text": [
      "p-value of small sample w/ null hypothesis of zero-mean is: 6.446575878194687e-19\n",
      "p-value of big sample w/ null hypothesis of zero-mean is: 1.2942964843008244e-199\n"
     ]
    }
   ],
   "source": [
    "print(f\"p-value of small sample w/ null hypothesis of zero-mean is: {ttest_1samp(small_sample, popmean=0)[1]}\")\n",
    "print(f\"p-value of big sample w/ null hypothesis of zero-mean is: {ttest_1samp(big_sample, popmean=0)[1]}\")"
   ]
  },
  {
   "cell_type": "code",
   "execution_count": null,
   "metadata": {},
   "outputs": [],
   "source": []
  }
 ],
 "metadata": {
  "kernelspec": {
   "display_name": "Python 3",
   "language": "python",
   "name": "python3"
  },
  "language_info": {
   "codemirror_mode": {
    "name": "ipython",
    "version": 3
   },
   "file_extension": ".py",
   "mimetype": "text/x-python",
   "name": "python",
   "nbconvert_exporter": "python",
   "pygments_lexer": "ipython3",
   "version": "3.7.6"
  }
 },
 "nbformat": 4,
 "nbformat_minor": 4
}
