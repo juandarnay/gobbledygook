{
 "cells": [
  {
   "cell_type": "markdown",
   "metadata": {},
   "source": [
    "- title: In class-examples, February 17, 2020\n",
    "- tags: in_class, week5\n",
    "- date: 2020-02-17"
   ]
  },
  {
   "cell_type": "code",
   "execution_count": 1,
   "metadata": {},
   "outputs": [],
   "source": [
    "def joint_probability_of_independent_events(list_of_events):\n",
    "    prob = 1\n",
    "    for x in list_of_events:\n",
    "        prob = prob * x\n",
    "    return prob "
   ]
  },
  {
   "cell_type": "code",
   "execution_count": 2,
   "metadata": {},
   "outputs": [
    {
     "name": "stdout",
     "output_type": "stream",
     "text": [
      "0.095\n",
      "0.14000000000000004\n"
     ]
    },
    {
     "data": {
      "text/plain": [
       "0.6785714285714284"
      ]
     },
     "execution_count": 2,
     "metadata": {},
     "output_type": "execute_result"
    }
   ],
   "source": [
    "def flip_conditional_probabilities(base_rate, accuracy_rate):\n",
    "    numerator = (accuracy_rate * base_rate)\n",
    "    denominator = numerator + ((1-base_rate)*(1-accuracy_rate))\n",
    "    print(numerator)\n",
    "    print(denominator)\n",
    "    return(numerator/denominator)\n",
    "\n",
    "flip_conditional_probabilities(.1, .95)"
   ]
  },
  {
   "cell_type": "code",
   "execution_count": 3,
   "metadata": {},
   "outputs": [],
   "source": [
    "def prob_drunk_given_pos(base_rate, probab_pos_drunk, prob_pos_sober):\n",
    "    numerator = (probab_pos_drunk * base_rate)\n",
    "    denominator = numerator + ((1-base_rate)*(prob_pos_sober))\n",
    "    print(numerator)\n",
    "    print(denominator)\n",
    "    return(numerator/denominator)\n",
    "    "
   ]
  },
  {
   "cell_type": "code",
   "execution_count": 5,
   "metadata": {},
   "outputs": [
    {
     "name": "stdout",
     "output_type": "stream",
     "text": [
      "0.095\n",
      "0.14\n"
     ]
    },
    {
     "data": {
      "text/plain": [
       "0.6785714285714285"
      ]
     },
     "execution_count": 5,
     "metadata": {},
     "output_type": "execute_result"
    }
   ],
   "source": [
    "prob_drunk_given_pos(.1, .95, .05)"
   ]
  },
  {
   "cell_type": "code",
   "execution_count": null,
   "metadata": {},
   "outputs": [],
   "source": []
  }
 ],
 "metadata": {
  "kernelspec": {
   "display_name": "Python 3",
   "language": "python",
   "name": "python3"
  },
  "language_info": {
   "codemirror_mode": {
    "name": "ipython",
    "version": 3
   },
   "file_extension": ".py",
   "mimetype": "text/x-python",
   "name": "python",
   "nbconvert_exporter": "python",
   "pygments_lexer": "ipython3",
   "version": "3.7.6"
  }
 },
 "nbformat": 4,
 "nbformat_minor": 4
}
