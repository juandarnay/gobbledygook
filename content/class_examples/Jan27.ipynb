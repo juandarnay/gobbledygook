{
 "cells": [
  {
   "cell_type": "markdown",
   "metadata": {},
   "source": [
    "- title: In class-examples, January 27, 2020\n",
    "- tags: in_class, week2\n",
    "- date: 2020-01-27"
   ]
  },
  {
   "cell_type": "code",
   "execution_count": 2,
   "metadata": {},
   "outputs": [],
   "source": [
    "inner=[\"cat\", \"dog\", \"bear\"]"
   ]
  },
  {
   "cell_type": "code",
   "execution_count": 3,
   "metadata": {},
   "outputs": [],
   "source": [
    "otherinner = [1, 2, 3]"
   ]
  },
  {
   "cell_type": "code",
   "execution_count": 4,
   "metadata": {},
   "outputs": [],
   "source": [
    "mylist = [inner,otherinner]"
   ]
  },
  {
   "cell_type": "code",
   "execution_count": 5,
   "metadata": {},
   "outputs": [
    {
     "data": {
      "text/plain": [
       "[['cat', 'dog', 'bear'], [1, 2, 3]]"
      ]
     },
     "execution_count": 5,
     "metadata": {},
     "output_type": "execute_result"
    }
   ],
   "source": [
    "mylist"
   ]
  },
  {
   "cell_type": "code",
   "execution_count": 6,
   "metadata": {},
   "outputs": [],
   "source": [
    "nested = [[\"a\", 1, \"b\"], [\"dog\"]]"
   ]
  },
  {
   "cell_type": "code",
   "execution_count": 7,
   "metadata": {},
   "outputs": [
    {
     "name": "stdout",
     "output_type": "stream",
     "text": [
      "[['a', 1, 'b'], ['dog']]\n"
     ]
    }
   ],
   "source": [
    "print(nested)"
   ]
  },
  {
   "cell_type": "code",
   "execution_count": 9,
   "metadata": {},
   "outputs": [
    {
     "name": "stdout",
     "output_type": "stream",
     "text": [
      "[0, 1, 2, 3, 4]\n"
     ]
    }
   ],
   "source": [
    "print(list(range(5)))"
   ]
  },
  {
   "cell_type": "code",
   "execution_count": 12,
   "metadata": {},
   "outputs": [],
   "source": [
    "dummy_input = \"\"\"5\n",
    "Harry\n",
    "37.21\n",
    "Berry\n",
    "37.21\n",
    "Tina\n",
    "37.2\n",
    "Akriti\n",
    "41\n",
    "Harsh\n",
    "39\"\"\""
   ]
  },
  {
   "cell_type": "code",
   "execution_count": 33,
   "metadata": {},
   "outputs": [
    {
     "name": "stdout",
     "output_type": "stream",
     "text": [
      "[37.21, 37.21, 37.2, 41.0, 39.0]\n",
      "['Harry', 'Berry', 'Tina', 'Akriti', 'Harsh']\n"
     ]
    }
   ],
   "source": [
    "numbers = []\n",
    "names = []\n",
    "for x in dummy_input.split(\"\\n\")[1:]:\n",
    "    try:\n",
    "        fl = float(x)\n",
    "        numbers.append(fl)\n",
    "    except:\n",
    "        names.append(x)\n",
    "print(numbers)\n",
    "print(names)"
   ]
  },
  {
   "cell_type": "code",
   "execution_count": 34,
   "metadata": {},
   "outputs": [
    {
     "name": "stdout",
     "output_type": "stream",
     "text": [
      "[('Harry', 37.21), ('Berry', 37.21), ('Tina', 37.2), ('Akriti', 41.0), ('Harsh', 39.0)]\n"
     ]
    }
   ],
   "source": [
    "print(list(zip(names, numbers)))"
   ]
  },
  {
   "cell_type": "code",
   "execution_count": 35,
   "metadata": {},
   "outputs": [],
   "source": [
    "def get_students(instring):\n",
    "    listofstrings = instring.split(\"\\n\")[1:]\n",
    "    names = []\n",
    "    numbers = []\n",
    "    for x in listofstrings:\n",
    "        try:\n",
    "            fl = float(x)\n",
    "            numbers.append(fl)\n",
    "        except:\n",
    "            names.append(x)\n",
    "    index_cards = list(zip(names, numbers))\n",
    "    grades = []\n",
    "    for x in index_cards:\n",
    "        grades.append(x[1])\n",
    "    grades = list(set(grades))\n",
    "    grades = sorted(grades)\n",
    "    secondlowest = grades[1]\n",
    "    almost_flunking = []\n",
    "    for student in index_cards:\n",
    "        if student[1] == secondlowest:\n",
    "            almost_flunking.append(student[0])\n",
    "    for x in sorted(almost_flunking):\n",
    "        print(x)\n"
   ]
  },
  {
   "cell_type": "code",
   "execution_count": 36,
   "metadata": {},
   "outputs": [
    {
     "name": "stdout",
     "output_type": "stream",
     "text": [
      "Berry\n",
      "Harry\n"
     ]
    }
   ],
   "source": [
    "get_students(dummy_input)"
   ]
  },
  {
   "cell_type": "code",
   "execution_count": 40,
   "metadata": {},
   "outputs": [
    {
     "data": {
      "text/plain": [
       "'cat'"
      ]
     },
     "execution_count": 40,
     "metadata": {},
     "output_type": "execute_result"
    }
   ],
   "source": [
    "\"angrycat\"[5:]"
   ]
  },
  {
   "cell_type": "code",
   "execution_count": null,
   "metadata": {},
   "outputs": [],
   "source": []
  }
 ],
 "metadata": {
  "kernelspec": {
   "display_name": "Python 3",
   "language": "python",
   "name": "python3"
  },
  "language_info": {
   "codemirror_mode": {
    "name": "ipython",
    "version": 3
   },
   "file_extension": ".py",
   "mimetype": "text/x-python",
   "name": "python",
   "nbconvert_exporter": "python",
   "pygments_lexer": "ipython3",
   "version": "3.7.6"
  }
 },
 "nbformat": 4,
 "nbformat_minor": 4
}
