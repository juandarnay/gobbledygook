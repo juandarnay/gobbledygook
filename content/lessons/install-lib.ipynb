{
 "cells": [
  {
   "cell_type": "markdown",
   "metadata": {},
   "source": [
    "- title: Installing an external library on the UI systems\n",
    "- tags: week7, logistics\n",
    "- date: 2020-03-02"
   ]
  },
  {
   "cell_type": "markdown",
   "metadata": {},
   "source": [
    "It's a bit difficult to install libraries to make them usable with jupyter notebooks in general; it's slightly more difficult to make it work in a permission-controlled environment.  However, if you want to try my plottyprint library for problem set 2 (which has the advantage of being easy to use), here's some code to try.  \n",
    "\n",
    "First try the code in the first cell below, and then *close and halt the kernel* and start a new notebook, and see if you can `import plottyprint`.  \n",
    "\n",
    "If that doesn't work, try the same procedure but with the code in the second cell below.\n",
    "\n",
    "If *that* doesn't work, go back to the main screen of the notebooks setup, and start a new *terminal window* rather than a new notebook.  In the terminal window, type `pip install --user plottyprint` and then see if it works in a new notebook."
   ]
  },
  {
   "cell_type": "code",
   "execution_count": 7,
   "metadata": {
    "scrolled": true
   },
   "outputs": [
    {
     "name": "stdout",
     "output_type": "stream",
     "text": [
      "Requirement already satisfied: plottyprint in ./.local/lib/python3.7/site-packages (0.1)\n",
      "Requirement already satisfied: statsmodels in /opt/conda/lib/python3.7/site-packages (from plottyprint) (0.10.2)\n",
      "Requirement already satisfied: matplotlib>=2.1.1 in /opt/conda/lib/python3.7/site-packages (from plottyprint) (3.1.2)\n",
      "Requirement already satisfied: numpy in /opt/conda/lib/python3.7/site-packages (from plottyprint) (1.17.3)\n",
      "Requirement already satisfied: scipy in /opt/conda/lib/python3.7/site-packages (from plottyprint) (1.3.3)\n",
      "Requirement already satisfied: pandas>=0.19 in /opt/conda/lib/python3.7/site-packages (from statsmodels->plottyprint) (0.25.3)\n",
      "Requirement already satisfied: patsy>=0.4.0 in /opt/conda/lib/python3.7/site-packages (from statsmodels->plottyprint) (0.5.1)\n",
      "Requirement already satisfied: python-dateutil>=2.1 in /opt/conda/lib/python3.7/site-packages (from matplotlib>=2.1.1->plottyprint) (2.8.1)\n",
      "Requirement already satisfied: kiwisolver>=1.0.1 in /opt/conda/lib/python3.7/site-packages (from matplotlib>=2.1.1->plottyprint) (1.1.0)\n",
      "Requirement already satisfied: cycler>=0.10 in /opt/conda/lib/python3.7/site-packages (from matplotlib>=2.1.1->plottyprint) (0.10.0)\n",
      "Requirement already satisfied: pyparsing!=2.0.4,!=2.1.2,!=2.1.6,>=2.0.1 in /opt/conda/lib/python3.7/site-packages (from matplotlib>=2.1.1->plottyprint) (2.4.6)\n",
      "Requirement already satisfied: pytz>=2017.2 in /opt/conda/lib/python3.7/site-packages (from pandas>=0.19->statsmodels->plottyprint) (2019.3)\n",
      "Requirement already satisfied: six in /opt/conda/lib/python3.7/site-packages (from patsy>=0.4.0->statsmodels->plottyprint) (1.13.0)\n",
      "Requirement already satisfied: setuptools in /opt/conda/lib/python3.7/site-packages (from kiwisolver>=1.0.1->matplotlib>=2.1.1->plottyprint) (45.0.0.post20200113)\n"
     ]
    }
   ],
   "source": [
    "import sys\n",
    "!{sys.executable} -m pip install --user plottyprint"
   ]
  },
  {
   "cell_type": "code",
   "execution_count": 2,
   "metadata": {},
   "outputs": [
    {
     "name": "stdout",
     "output_type": "stream",
     "text": [
      "Collecting plottyprint\n",
      "  Using cached https://files.pythonhosted.org/packages/92/25/30d42a989117df1945ec4c15b676347f48e652adddd732fd154a09b53766/plottyprint-0.1-py3-none-any.whl\n",
      "Requirement already satisfied: scipy in /opt/conda/lib/python3.7/site-packages (from plottyprint) (1.3.3)\n",
      "Requirement already satisfied: numpy in /opt/conda/lib/python3.7/site-packages (from plottyprint) (1.17.3)\n",
      "Requirement already satisfied: matplotlib>=2.1.1 in /opt/conda/lib/python3.7/site-packages (from plottyprint) (3.1.2)\n",
      "Requirement already satisfied: statsmodels in /opt/conda/lib/python3.7/site-packages (from plottyprint) (0.10.2)\n",
      "Requirement already satisfied: cycler>=0.10 in /opt/conda/lib/python3.7/site-packages (from matplotlib>=2.1.1->plottyprint) (0.10.0)\n",
      "Requirement already satisfied: pyparsing!=2.0.4,!=2.1.2,!=2.1.6,>=2.0.1 in /opt/conda/lib/python3.7/site-packages (from matplotlib>=2.1.1->plottyprint) (2.4.6)\n",
      "Requirement already satisfied: kiwisolver>=1.0.1 in /opt/conda/lib/python3.7/site-packages (from matplotlib>=2.1.1->plottyprint) (1.1.0)\n",
      "Requirement already satisfied: python-dateutil>=2.1 in /opt/conda/lib/python3.7/site-packages (from matplotlib>=2.1.1->plottyprint) (2.8.1)\n",
      "Requirement already satisfied: pandas>=0.19 in /opt/conda/lib/python3.7/site-packages (from statsmodels->plottyprint) (0.25.3)\n",
      "Requirement already satisfied: patsy>=0.4.0 in /opt/conda/lib/python3.7/site-packages (from statsmodels->plottyprint) (0.5.1)\n",
      "Requirement already satisfied: six in /opt/conda/lib/python3.7/site-packages (from cycler>=0.10->matplotlib>=2.1.1->plottyprint) (1.13.0)\n",
      "Requirement already satisfied: setuptools in /opt/conda/lib/python3.7/site-packages (from kiwisolver>=1.0.1->matplotlib>=2.1.1->plottyprint) (45.0.0.post20200113)\n",
      "Requirement already satisfied: pytz>=2017.2 in /opt/conda/lib/python3.7/site-packages (from pandas>=0.19->statsmodels->plottyprint) (2019.3)\n",
      "Installing collected packages: plottyprint\n",
      "Successfully installed plottyprint-0.1\n"
     ]
    }
   ],
   "source": [
    "!pip install --user plottyprint"
   ]
  },
  {
   "cell_type": "code",
   "execution_count": null,
   "metadata": {},
   "outputs": [],
   "source": []
  },
  {
   "cell_type": "code",
   "execution_count": null,
   "metadata": {},
   "outputs": [],
   "source": []
  }
 ],
 "metadata": {
  "kernelspec": {
   "display_name": "Python 3",
   "language": "python",
   "name": "python3"
  },
  "language_info": {
   "codemirror_mode": {
    "name": "ipython",
    "version": 3
   },
   "file_extension": ".py",
   "mimetype": "text/x-python",
   "name": "python",
   "nbconvert_exporter": "python",
   "pygments_lexer": "ipython3",
   "version": "3.7.6"
  }
 },
 "nbformat": 4,
 "nbformat_minor": 4
}
