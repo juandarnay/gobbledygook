{
 "cells": [
  {
   "cell_type": "markdown",
   "metadata": {},
   "source": [
    "- title: Pset 1 answers\n",
    "- tags: psets\n",
    "- date: 2018-02-04"
   ]
  },
  {
   "cell_type": "code",
   "execution_count": 1,
   "metadata": {
    "collapsed": true
   },
   "outputs": [],
   "source": [
    "# just putting all the imports I'll need in one big go.\n",
    "\n",
    "import requests, re, random\n",
    "from datetime import datetime, date, timedelta"
   ]
  },
  {
   "cell_type": "markdown",
   "metadata": {},
   "source": [
    "## Problem 1"
   ]
  },
  {
   "cell_type": "code",
   "execution_count": 2,
   "metadata": {
    "collapsed": true
   },
   "outputs": [],
   "source": [
    "# I'm using this as an easy way of encoding the parameters of the game, \n",
    "# so my code can look up a choice and see what beats it.\n",
    "beats = {\"rock\": \"paper\", \"paper\": \"scissors\", \"scissors\": \"rock\"}\n",
    "options = list(beats.keys())\n",
    "\n",
    "def rps():\n",
    "    computer_choice = random.choice(options)\n",
    "    player_choice = input(\"Pick rock, paper or scissors!\").lower().strip()\n",
    "    while player_choice not in options:\n",
    "        player_choice = input(\"Please enter rock, paper, or scissors.\").lower().strip()\n",
    "    if player_choice == beats[computer_choice]:\n",
    "        winner = \"You\"\n",
    "    elif computer_choice == beats[player_choice]:\n",
    "        winner = \"I\"\n",
    "    else:\n",
    "        winner = \"Nobody\"\n",
    "    print(\"I picked {}. {} won!\".format(computer_choice, winner))\n",
    "        \n",
    "    "
   ]
  },
  {
   "cell_type": "code",
   "execution_count": 3,
   "metadata": {
    "collapsed": false
   },
   "outputs": [
    {
     "name": "stdout",
     "output_type": "stream",
     "text": [
      "Pick rock, paper or scissors!        rOcK\n",
      "I picked paper. I won!\n"
     ]
    }
   ],
   "source": [
    "rps()"
   ]
  },
  {
   "cell_type": "code",
   "execution_count": 4,
   "metadata": {
    "collapsed": false
   },
   "outputs": [
    {
     "name": "stdout",
     "output_type": "stream",
     "text": [
      "Pick rock, paper or scissors!rock\n",
      "I picked rock. Nobody won!\n"
     ]
    }
   ],
   "source": [
    "rps()"
   ]
  },
  {
   "cell_type": "code",
   "execution_count": 5,
   "metadata": {
    "collapsed": false
   },
   "outputs": [
    {
     "name": "stdout",
     "output_type": "stream",
     "text": [
      "Pick rock, paper or scissors!cat\n",
      "Please enter rock, paper, or scissors.bear\n",
      "Please enter rock, paper, or scissors.kraken\n",
      "Please enter rock, paper, or scissors.rock\n",
      "I picked paper. I won!\n"
     ]
    }
   ],
   "source": [
    "rps()"
   ]
  },
  {
   "cell_type": "markdown",
   "metadata": {},
   "source": [
    "## Problem 2"
   ]
  },
  {
   "cell_type": "code",
   "execution_count": 6,
   "metadata": {
    "collapsed": true
   },
   "outputs": [],
   "source": [
    "def check_fixed_holiday(date):\n",
    "    holidays = [\"12-25\", \"07-04\", \"01-01\", \"11-11\"]\n",
    "    datestring = date.strftime(\"%m-%d\")\n",
    "    return datestring in holidays\n",
    "\n",
    "def check_weekend(date):\n",
    "    return date.weekday() >= 5\n",
    "    \n",
    "def read_date(datestring = \"today\"):\n",
    "    if datestring == \"today\":\n",
    "        return date.today()\n",
    "    return datetime.strptime(datestring, \"%m-%d-%Y\").date()\n",
    "\n",
    "def x_days_after(num_days, start_date = \"today\"):\n",
    "    start = read_date(start_date)\n",
    "    return start + timedelta(num_days)\n",
    "\n",
    "def calculate_days(num_days, start_date = \"today\"):\n",
    "    try:\n",
    "        candidate = x_days_after(num_days, start_date)\n",
    "    except:\n",
    "        return None\n",
    "    while check_weekend(candidate) or check_fixed_holiday(candidate):\n",
    "        candidate += timedelta(1)\n",
    "    return candidate.strftime(\"%a, %B %d, %Y\")"
   ]
  },
  {
   "cell_type": "code",
   "execution_count": 7,
   "metadata": {
    "collapsed": false
   },
   "outputs": [
    {
     "name": "stdout",
     "output_type": "stream",
     "text": [
      "None\n"
     ]
    }
   ],
   "source": [
    "print(calculate_days(\"cats are the best\", 5))"
   ]
  },
  {
   "cell_type": "code",
   "execution_count": 8,
   "metadata": {
    "collapsed": false
   },
   "outputs": [
    {
     "data": {
      "text/plain": [
       "'Mon, January 21, 2019'"
      ]
     },
     "execution_count": 8,
     "metadata": {},
     "output_type": "execute_result"
    }
   ],
   "source": [
    "calculate_days(3, \"01-16-2019\")"
   ]
  },
  {
   "cell_type": "code",
   "execution_count": 9,
   "metadata": {
    "collapsed": false
   },
   "outputs": [
    {
     "data": {
      "text/plain": [
       "'Fri, July 05, 2019'"
      ]
     },
     "execution_count": 9,
     "metadata": {},
     "output_type": "execute_result"
    }
   ],
   "source": [
    "calculate_days(19, \"06-15-2019\")"
   ]
  },
  {
   "cell_type": "markdown",
   "metadata": {},
   "source": [
    "## Problem 3"
   ]
  },
  {
   "cell_type": "code",
   "execution_count": 10,
   "metadata": {
    "collapsed": true
   },
   "outputs": [],
   "source": [
    "endpoint = \"https://api.case.law/v1/cases/\"\n",
    "\n",
    "pattern = r\"\\d+ U\\.S\\. \\d+\"\n",
    "\n",
    "def get_opinion_texts(api_response):\n",
    "    try:\n",
    "        ops = api_response[\"results\"][0][\"casebody\"][\"data\"][\"opinions\"]\n",
    "    except:\n",
    "        return None\n",
    "    return [x[\"text\"] for x in ops]\n",
    "\n",
    "import json\n",
    "def ppjson(jsonfile):\n",
    "    return json.dumps(jsonfile, sort_keys=True, indent=4)\n",
    "    \n",
    "\n",
    "def cite_finder(cite):\n",
    "    resp = requests.get(endpoint, params={\"cite\": cite, \"full_case\": \"true\"}).json()\n",
    "    # we used this line in class to look at the JSON for an example of how to inspect a json\n",
    "    # and see what its structure is. \n",
    "    # print(ppjson(resp))\n",
    "    opinions = get_opinion_texts(resp)\n",
    "    if opinions:\n",
    "        allcites = []\n",
    "        for opinion in opinions:\n",
    "            opcites = re.findall(pattern, opinion)\n",
    "            allcites.extend(opcites)\n",
    "        filtered = list(set(allcites))\n",
    "        filtered.sort()\n",
    "        return filtered\n",
    "    return None"
   ]
  },
  {
   "cell_type": "code",
   "execution_count": 11,
   "metadata": {
    "collapsed": false
   },
   "outputs": [
    {
     "data": {
      "text/plain": [
       "['387 U.S. 136',\n",
       " '419 U.S. 102',\n",
       " '424 U.S. 1',\n",
       " '429 U.S. 252',\n",
       " '508 U.S. 520',\n",
       " '509 U.S. 43']"
      ]
     },
     "execution_count": 11,
     "metadata": {},
     "output_type": "execute_result"
    }
   ],
   "source": [
    "cite_finder(\"231 Ill.2d 474\")"
   ]
  },
  {
   "cell_type": "code",
   "execution_count": 12,
   "metadata": {
    "collapsed": false
   },
   "outputs": [
    {
     "name": "stdout",
     "output_type": "stream",
     "text": [
      "None\n"
     ]
    }
   ],
   "source": [
    "print(cite_finder(\"231 Ill.2d 475\"))"
   ]
  },
  {
   "cell_type": "code",
   "execution_count": 13,
   "metadata": {
    "collapsed": false
   },
   "outputs": [
    {
     "data": {
      "text/plain": [
       "['339 U.S. 594', '387 U.S. 136', '467 U.S. 837', '538 U.S. 803']"
      ]
     },
     "execution_count": 13,
     "metadata": {},
     "output_type": "execute_result"
    }
   ],
   "source": [
    "cite_finder(\"215 Ill.2d 219\")"
   ]
  }
 ],
 "metadata": {
  "kernelspec": {
   "display_name": "Python 3",
   "language": "python",
   "name": "python3"
  },
  "language_info": {
   "codemirror_mode": {
    "name": "ipython",
    "version": 3
   },
   "file_extension": ".py",
   "mimetype": "text/x-python",
   "name": "python",
   "nbconvert_exporter": "python",
   "pygments_lexer": "ipython3",
   "version": "3.5.1"
  }
 },
 "nbformat": 4,
 "nbformat_minor": 1
}
