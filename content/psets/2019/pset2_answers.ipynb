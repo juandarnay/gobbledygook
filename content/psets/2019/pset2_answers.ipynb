{
 "cells": [
  {
   "cell_type": "markdown",
   "metadata": {},
   "source": [
    "- title: Pset2 answers\n",
    "- tags: psets\n",
    "- date: 2019-02-24"
   ]
  },
  {
   "cell_type": "markdown",
   "metadata": {},
   "source": [
    "## Problem 1"
   ]
  },
  {
   "cell_type": "code",
   "execution_count": 2,
   "metadata": {},
   "outputs": [
    {
     "name": "stdout",
     "output_type": "stream",
     "text": [
      "0.875\n"
     ]
    }
   ],
   "source": [
    "def prob_sss_cond_drugs(alpha, beta, gamma):\n",
    "    return alpha * beta * gamma\n",
    "    \n",
    "def prob_sss_cond_nodrugs(psi):\n",
    "    return psi ** 3\n",
    "\n",
    "def total_probability_rule(conditional_world_pairs):\n",
    "    # take a list of tuples of P(X|Y), P(Y), multiply out, then sum.\n",
    "    return sum([x[0] * x[1] for x in conditional_world_pairs])\n",
    "\n",
    "def search_results(alpha, beta, gamma, psi, mu):\n",
    "    # we're just using Bayes Rule here. We want \n",
    "    #  p(drugs | SSS), we have p(SSS | drugs)\n",
    "    # start w/ numerator of bayes rule.\n",
    "    p_sss_drugs = prob_sss_cond_drugs(alpha, beta, gamma)\n",
    "    numerator = p_sss_drugs * mu\n",
    "    # now for the denominator. We will use the total probability rule\n",
    "    probpairs = [(prob_sss_cond_nodrugs(psi), (1 - mu)), (prob_sss_cond_drugs(alpha, beta, gamma), mu)]\n",
    "    denominator = total_probability_rule(probpairs)\n",
    "    return numerator / denominator\n",
    "    \n",
    "# let's run with a small test case\n",
    "\n",
    "alpha = .7\n",
    "beta = .8\n",
    "gamma = .9\n",
    "psi = .2\n",
    "mu = .1\n",
    "\n",
    "print(search_results(alpha, beta, gamma, psi, mu))"
   ]
  },
  {
   "cell_type": "markdown",
   "metadata": {},
   "source": [
    "Note on this: if we wanted to implement something like this more robustly, it would be a bad idea to do it with all this floating point math in raw Python.  Floating point math tends to be a little bit shaky (i.e., inaccurate) unless you're careful with it, and when working with very small probabilities, it would get more shaky still. Instead, I'd either operate with fractions, or use an arbitrary precision math library like [mpmath](http://mpmath.org/).  \n",
    "\n",
    "Incidentally, the trick for why our hypothetical test with these numbers is actually pretty reliable, is that psi is small, and cubing it is tiny, which makes the first term in the denominator really tiny.since the second term in the denominator is the same as the numerator, this means our fraction is close to one.\n",
    "\n",
    "The heart of the lesson here is that combining indicators make the evidence much stronger, so long as the combined indicators appear really really really rarely in the negative case. \n",
    "\n",
    "### question 1.b\n",
    "\n",
    "It's just a straightforward application of Bayes rule. The setup is that we want probability of drugs given SSS. Again, I'm going to throw Bayes rule in your face: \n",
    "\n",
    "$$P(B|A) = \\frac{P(A|B)P(B)}{P(A)}$$\n",
    "\n",
    "So B is \"has drugs\" and A is \"sketchy AND seedy and shady.\"  \n",
    "\n",
    "To get $P(A|B)$ we can observe that sketchy, seedy, and shady are conditionally independent on having drugs, so the multiplication rule works. That's `prob_sss_cond_drugs()` up above.  Then $P(B)$ is given to us as mu. \n",
    "\n",
    "To get the denominator, we use the total probability rule yet again.  We can divide the world into two states of affairs --- the state of affairs where someone has drugs, and the state of affairs where someone doesn't.  We can use the multiplication rule again in both cases because the problem specified that s, s, and s are conditionally independent on drugs *and* on nodrugs. (See, I was trying to make this nice and easy!) \n",
    "\n",
    "### question 1.c\n",
    "\n",
    "If sketchiness isn't conditionally independent of shadiness given non-drug-carrying, \n",
    "we could not use the prob_ss_cond_nodrugs function up above. We'd have to find the probability of sketchiness conditional on shadiness, and multiply that by the probability of shadiness, and then multiply all that by the probability of seediness, in order to get the equivalent term.  Assuming that you're more likely to be sketchy if you're shady (and not carrying drugs), this would increase our denominator, thus reducing the likelihood that the profile gets it right."
   ]
  },
  {
   "cell_type": "markdown",
   "metadata": {},
   "source": [
    "## Problem 2"
   ]
  },
  {
   "cell_type": "code",
   "execution_count": 6,
   "metadata": {},
   "outputs": [
    {
     "name": "stdout",
     "output_type": "stream",
     "text": [
      "Counter({'1': 15415, '2': 8517, '3': 5943, '4': 4671, '5': 3855, '6': 3480, '7': 3042, '8': 2678, '9': 2399})\n"
     ]
    },
    {
     "data": {
      "image/png": "[encoded data removed]",
      "text/plain": [
       "<Figure size 432x288 with 1 Axes>"
      ]
     },
     "metadata": {
      "needs_background": "light"
     },
     "output_type": "display_data"
    }
   ],
   "source": [
    "import collections\n",
    "import numpy as np\n",
    "import matplotlib.pyplot as plt\n",
    "%matplotlib inline\n",
    "\n",
    "nums = list(np.random.lognormal(0, 1, 50000) * 100000)\n",
    "# this would also be ok:\n",
    "#nums = list(np.random.exponential(50000, 500000))\n",
    "\n",
    "firstdigits = [str(x)[0] for x in nums]\n",
    "counts = collections.Counter(firstdigits)\n",
    "print(counts)\n",
    "it = list(counts.items())\n",
    "it.sort(key = lambda x: x[0])\n",
    "labels, values = zip(*it)\n",
    "\n",
    "indexes = np.arange(len(labels))\n",
    "width = 1\n",
    "\n",
    "plt.bar(indexes, values, width)\n",
    "plt.show()\n"
   ]
  },
  {
   "cell_type": "markdown",
   "metadata": {},
   "source": [
    "Note on that: I just constructed the histogram from a Python build-in Counter object using the code given [here](https://stackoverflow.com/questions/19198920/using-counter-in-python-to-build-histogram).  Because, why not do things the simple way?  But of course there are lots of ways to do this.  Also, I picked the parameters for the distributions just because they looked like incomes.  To verify this:"
   ]
  },
  {
   "cell_type": "code",
   "execution_count": 7,
   "metadata": {},
   "outputs": [
    {
     "data": {
      "text/plain": [
       "[47770.72873496541,\n",
       " 162518.71482805922,\n",
       " 365965.8701727127,\n",
       " 55899.503502655134,\n",
       " 47994.65898368454,\n",
       " 16117.974400247373,\n",
       " 28823.429892585027,\n",
       " 62724.728324552445,\n",
       " 593241.5217142677,\n",
       " 266014.57099434023]"
      ]
     },
     "execution_count": 7,
     "metadata": {},
     "output_type": "execute_result"
    }
   ],
   "source": [
    "nums[0:10]"
   ]
  },
  {
   "cell_type": "code",
   "execution_count": 8,
   "metadata": {},
   "outputs": [
    {
     "data": {
      "text/plain": [
       "163904.6548386263"
      ]
     },
     "execution_count": 8,
     "metadata": {},
     "output_type": "execute_result"
    }
   ],
   "source": [
    "np.mean(nums)"
   ]
  },
  {
   "cell_type": "code",
   "execution_count": 9,
   "metadata": {},
   "outputs": [
    {
     "data": {
      "text/plain": [
       "99114.5775416875"
      ]
     },
     "execution_count": 9,
     "metadata": {},
     "output_type": "execute_result"
    }
   ],
   "source": [
    "np.median(nums)"
   ]
  },
  {
   "cell_type": "markdown",
   "metadata": {},
   "source": [
    "Kinda high incomes, perhaps.  But not ridiculously so."
   ]
  }
 ],
 "metadata": {
  "kernelspec": {
   "display_name": "library_gobbledygook",
   "language": "python",
   "name": "library_gobbledygook"
  },
  "language_info": {
   "codemirror_mode": {
    "name": "ipython",
    "version": 3
   },
   "file_extension": ".py",
   "mimetype": "text/x-python",
   "name": "python",
   "nbconvert_exporter": "python",
   "pygments_lexer": "ipython3",
   "version": "3.6.7"
  }
 },
 "nbformat": 4,
 "nbformat_minor": 2
}
